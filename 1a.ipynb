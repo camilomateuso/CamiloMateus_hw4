{
 "cells": [
  {
   "cell_type": "code",
   "execution_count": 27,
   "metadata": {
    "collapsed": false
   },
   "outputs": [],
   "source": [
    "import numpy as np\n",
    "import matplotlib.pyplot as plt\n",
    "k=1.38064852*(10**-23)\n",
    "h=6.62607004*(10**-34)\n",
    "c=299792458\n",
    "def leyPlanck(v,T):\n",
    "    if(v!=T):\n",
    "        return ((2*(v**3))*(1/(np.exp(v/T) -1)))\n",
    "    else:\n",
    "        return 0\n",
    "\n",
    "def derivadaCD(f, h, t,b):\n",
    "    return (f(t+h,b) - f(t-h,b))/(2*h)\n",
    "def devleyPlanck(v,T):\n",
    "    return derivadaCD(leyPlanck, 0.1, v,T)\n",
    "def dev2leyPlanck(v,T):\n",
    "    return derivadaCD(devleyPlanck, 0.1, v,T)\n",
    "def newton(f,df,x0,e,T):\n",
    "    delta = abs(0-f(x0,T))\n",
    "    while(delta>e):\n",
    "        x0 = x0 - f(x0,T)/df(x0,T)\n",
    "        delta = abs(0-f(x0,T))\n",
    "    return x0"
   ]
  },
  {
   "cell_type": "code",
   "execution_count": 2,
   "metadata": {
    "collapsed": false
   },
   "outputs": [],
   "source": [
    "a = np.linspace(100,1.0*(10**5),100)\n",
    "b1 = [devleyPlanck(i+0.01,5000.0) for i in a]\n",
    "b2= [devleyPlanck(i+0.01,4500.0) for i in a]\n",
    "b3 = [devleyPlanck(i+0.01,4000.0) for i in a]\n",
    "plt.plot(a,b1)\n",
    "plt.plot(a,b2)\n",
    "plt.plot(a,b3)\n",
    "plt.show()"
   ]
  },
  {
   "cell_type": "code",
   "execution_count": 34,
   "metadata": {
    "collapsed": false
   },
   "outputs": [
    {
     "name": "stdout",
     "output_type": "stream",
     "text": [
      "[2.8214393722084652, 2.8214393721514139, 2.8214393721892446, 2.8214393721597477, 2.8214393721542552, 2.8214393721339635, 2.8214393721522155, 2.8214393721463544, 2.8214393721952122, 36.860239239336813]\n"
     ]
    }
   ],
   "source": [
    "i=0\n",
    "j=0\n",
    "Ts =[]\n",
    "Fs =[]\n",
    "while(i<=9):\n",
    "    T = 3500 + i*500\n",
    "    Ts.append(T)\n",
    "    Fs.append(newton(devleyPlanck,dev2leyPlanck,10000,0.001,T))\n",
    "    \n",
    "    i+=1\n",
    "    \n",
    "\n",
    "print([((Fs[i]))/(Ts[i]) for i in range(len(Ts))])"
   ]
  },
  {
   "cell_type": "code",
   "execution_count": null,
   "metadata": {
    "collapsed": true
   },
   "outputs": [],
   "source": []
  }
 ],
 "metadata": {
  "kernelspec": {
   "display_name": "Python 2",
   "language": "python",
   "name": "python2"
  },
  "language_info": {
   "codemirror_mode": {
    "name": "ipython",
    "version": 2
   },
   "file_extension": ".py",
   "mimetype": "text/x-python",
   "name": "python",
   "nbconvert_exporter": "python",
   "pygments_lexer": "ipython2",
   "version": "2.7.12"
  }
 },
 "nbformat": 4,
 "nbformat_minor": 0
}
